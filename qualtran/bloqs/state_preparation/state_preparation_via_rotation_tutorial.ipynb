{
 "cells": [
  {
   "cell_type": "code",
   "execution_count": null,
   "metadata": {},
   "outputs": [],
   "source": [
    "#  Copyright 2023 Google LLC\n",
    "#\n",
    "#  Licensed under the Apache License, Version 2.0 (the \"License\");\n",
    "#  you may not use this file except in compliance with the License.\n",
    "#  You may obtain a copy of the License at\n",
    "#\n",
    "#      https://www.apache.org/licenses/LICENSE-2.0\n",
    "#\n",
    "#  Unless required by applicable law or agreed to in writing, software\n",
    "#  distributed under the License is distributed on an \"AS IS\" BASIS,\n",
    "#  WITHOUT WARRANTIES OR CONDITIONS OF ANY KIND, either express or implied.\n",
    "#  See the License for the specific language governing permissions and\n",
    "#  limitations under the License."
   ]
  },
  {
   "cell_type": "markdown",
   "metadata": {},
   "source": [
    "# Controlled state preparation using rotations"
   ]
  },
  {
   "cell_type": "code",
   "execution_count": null,
   "metadata": {},
   "outputs": [],
   "source": [
    "from qualtran.bloqs.state_preparation.state_preparation_via_rotation import StatePreparationViaRotations\n",
    "from qualtran.drawing import show_bloq\n",
    "from qualtran import BloqBuilder\n",
    "from qualtran.bloqs.basic_gates import ZeroState, OneState, OneEffect\n",
    "from qualtran.bloqs.rotations.phase_gradient import PhaseGradientState\n",
    "import numpy as np\n",
    "import random"
   ]
  },
  {
   "cell_type": "markdown",
   "metadata": {},
   "source": [
    "This bloq prepares a state $|\\psi\\rangle$ given a list of its coefficients controlled by another qubit. It uses phase kickback on a gradient state register to perform the rotations, so such state must be provided. It can be obtained from `PhaseGradientState`.\n",
    "\n",
    "Refer to https://arxiv.org/abs/1812.00954 page 3 for more details on state preparation using rotations."
   ]
  },
  {
   "cell_type": "markdown",
   "metadata": {},
   "source": [
    "## Example of use\n",
    "\n",
    "Assume one wants to implement an arbitrary state whose coefficients are stored in `state_coefs` with `state_bitsizes` sites using a resolution for the rotations of `rot_reg_bitsizes` qubits."
   ]
  },
  {
   "cell_type": "code",
   "execution_count": null,
   "metadata": {},
   "outputs": [],
   "source": [
    "def gen_random_state (state_bitsizes: int):\n",
    "    state = np.array([random.uniform(-1,1) + random.uniform(-1,1)*1j for _ in range(2**state_bitsizes)])\n",
    "    return state/np.linalg.norm(state)\n",
    "\n",
    "\n",
    "random.seed(137)\n",
    "rot_reg_bitsizes = 4\n",
    "state_bitsizes = 3\n",
    "state_coefs = gen_random_state(state_bitsizes)"
   ]
  },
  {
   "cell_type": "markdown",
   "metadata": {},
   "source": [
    "## Building the bloq\n",
    "\n",
    "The parameters that the bloq receives are:\n",
    "\n",
    "  - `state_bitsizes`: number of qubits that the state to be encoded takes.\n",
    "  - `rot_reg_bitsizes`: number of qubits used to store the rotation angle. This determines the accuracy of the results, but increases computational resources.\n",
    "  - `state`: tuple that contains the coefficients of the quantum state to be encoded, must be initially at the zero state $|000...\\rangle$.\n",
    "  - `uncompute`: boolean flag to implement the adjoint of the gate.\n",
    "\n",
    "Below the bloq and its decomposition are shown. It is possible to see three big bloqs that do the sequential rotations to prepare the amplitude for each of the three qubits and a final bloq to encode the phases of the state."
   ]
  },
  {
   "cell_type": "code",
   "execution_count": null,
   "metadata": {},
   "outputs": [],
   "source": [
    "qsp = StatePreparationViaRotations(\n",
    "    state_bitsizes=state_bitsizes, rot_reg_bitsizes=rot_reg_bitsizes, state=tuple(state_coefs)\n",
    ")\n",
    "show_bloq(qsp)\n",
    "show_bloq(qsp.decompose_bloq())"
   ]
  },
  {
   "cell_type": "markdown",
   "metadata": {},
   "source": [
    "## Using the bloq in a circuit\n",
    "\n",
    "Now let us show an example of this bloq being used to encode a state, together with the tensor contract to ensure that the coefficients are correctly prepared."
   ]
  },
  {
   "cell_type": "code",
   "execution_count": null,
   "metadata": {},
   "outputs": [],
   "source": [
    "bb = BloqBuilder()\n",
    "control = bb.add(OneState())\n",
    "state = bb.join(np.array([bb.add(ZeroState()) for _ in range(state_bitsizes)]))\n",
    "phase_gradient = bb.add(PhaseGradientState(rot_reg_bitsizes))\n",
    "control, state, phase_gradient = bb.add(\n",
    "    qsp, control=control, target_state=state, phase_gradient=phase_gradient\n",
    ")\n",
    "bb.add(OneEffect(), q=control)\n",
    "bb.add(PhaseGradientState(bitsize=rot_reg_bitsizes, adjoint=True), phase_grad=phase_gradient)\n",
    "circuit = bb.finalize(state=state)\n",
    "\n",
    "show_bloq(circuit)\n",
    "coefficients = circuit.tensor_contract()"
   ]
  },
  {
   "cell_type": "markdown",
   "metadata": {},
   "source": [
    "And finally a comparison of the results obtained with the original state used."
   ]
  },
  {
   "cell_type": "code",
   "execution_count": null,
   "metadata": {},
   "outputs": [],
   "source": [
    "accuracy = np.dot(coefficients, np.array(state_coefs).conj())\n",
    "\n",
    "print(f\"original state used: {tuple(state_coefs)}\")\n",
    "print(f\"circuit result:      {tuple(coefficients)}\\n\")\n",
    "print(f\"accuracy: {abs(accuracy)}\\n\")\n",
    "\n",
    "print(\"Comparison (coefficients in polar form):\")\n",
    "for i, (c, s) in enumerate(zip(coefficients, state_coefs)):\n",
    "    print(f\"  |{i:0{state_bitsizes}b}> result: {round(abs(c),4)} ∠{round(np.angle(c, deg=True),2)}º  \"+\\\n",
    "          f\"exact: {round(abs(s),4)} ∠{round(np.angle(s, deg=True),2)}º\")"
   ]
  },
  {
   "cell_type": "markdown",
   "metadata": {},
   "source": [
    "## Using the adjoint\n",
    "\n",
    "This block also implement the adjoint through the parameter `uncompute`, that is, preparing $|0\\rangle$ from a given $|\\psi\\rangle$. Following an equivalent scheme to the previous example, we prepare and un-prepare a state using the adjoint $U^\\dagger$ of the preparation gate $U$:\n",
    "$$\n",
    "  |0\\rangle = U^\\dagger |\\psi\\rangle = U^\\dagger U |0\\rangle\n",
    "$$"
   ]
  },
  {
   "cell_type": "code",
   "execution_count": null,
   "metadata": {},
   "outputs": [],
   "source": [
    "qsp_adj = StatePreparationViaRotations(\n",
    "    state_bitsizes=state_bitsizes, rot_reg_bitsizes=rot_reg_bitsizes, state=tuple(state_coefs), uncompute=True\n",
    ")\n",
    "\n",
    "bb = BloqBuilder()\n",
    "control = bb.add(OneState())\n",
    "state = bb.join(np.array([bb.add(ZeroState()) for _ in range(state_bitsizes)]))\n",
    "phase_gradient = bb.add(PhaseGradientState(rot_reg_bitsizes))\n",
    "control, state, phase_gradient = bb.add(\n",
    "    qsp, control=control, target_state=state, phase_gradient=phase_gradient\n",
    ")\n",
    "control, state, phase_gradient = bb.add(\n",
    "    qsp_adj, control=control, target_state=state, phase_gradient=phase_gradient\n",
    ")\n",
    "bb.add(OneEffect(), q=control)\n",
    "bb.add(PhaseGradientState(bitsize=rot_reg_bitsizes, adjoint=True), phase_grad=phase_gradient)\n",
    "circuit = bb.finalize(state=state)\n",
    "\n",
    "show_bloq(circuit)\n",
    "coefficients = circuit.tensor_contract()\n",
    "\n",
    "accuracy = coefficients[0] # <coefficients|0> = coefficients[0]\n",
    "print(f\"accuracy: {abs(accuracy)}\\n\")\n",
    "\n",
    "print(\"Coefficients in polar form:\")\n",
    "# zero out small coefficients\n",
    "coefficients[np.where(abs(coefficients) < 1e-16)] = 0.0\n",
    "for i, c in enumerate(coefficients):\n",
    "    print(f\"  |{i:0{state_bitsizes}b}> result: {round(abs(c),4)} ∠{round(np.angle(c, deg=True),2)}º\")"
   ]
  }
 ],
 "metadata": {
  "kernelspec": {
   "display_name": "venv",
   "language": "python",
   "name": "python3"
  },
  "language_info": {
   "codemirror_mode": {
    "name": "ipython",
    "version": 3
   },
   "file_extension": ".py",
   "mimetype": "text/x-python",
   "name": "python",
   "nbconvert_exporter": "python",
   "pygments_lexer": "ipython3",
   "version": "3.10.0"
  }
 },
 "nbformat": 4,
 "nbformat_minor": 2
}
