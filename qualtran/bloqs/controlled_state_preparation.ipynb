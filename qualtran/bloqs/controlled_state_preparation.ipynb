{
 "cells": [
  {
   "cell_type": "markdown",
   "id": "afc9f3f5",
   "metadata": {
    "cq.autogen": "title_cell"
   },
   "source": [
    "# Controlled State Preparation Using Rotations\n",
    "\n",
    "        Outline of the algorithm and role of each class.\n",
    "\n",
    "This algorithm prepares a state $|\\psi\\rangle$ in a register initially at $|0\\rangle$ by using\n",
    "rotations $R_y$ for encoding amplitudes and $R_z$ for encoding phases.\n",
    "\n",
    "Assume one wants to prepare the amplitude of a one qubit state\n",
    "\n",
    "$$\n",
    "\\sqrt{p_0} |0\\rangle + \\sqrt{p_1} |1\\rangle.\n",
    "$$\n",
    "\n",
    "This can be achieved by a rotation $R_y(\\theta)$ where $\\theta = \\cos^{-1}(\\sqrt{p_0})$.\n",
    "For encoding the amplitude of a n-qubit quantum state one could use a similar approach to this, but\n",
    "chaining conditional probabilities: first rotate qubit 1 by $\\theta = \\cos^{-1}(\\sqrt{p_0})$, then\n",
    "the second qubit by $\\theta_0 = \\cos^{-1}(\\sqrt{p_{00}/p_{0}})$, conditioned on the first one being\n",
    "in $|0\\rangle$ and $\\theta_1 = \\cos^{-1}(\\sqrt{p_{10}/p_{1}})$ conditioned by the first being in\n",
    "$|1\\rangle$, and so on. Here $p_y$ means the probability that the first len(y) qubits of the\n",
    "original state are in the state $y$. Refer to equation (8) of [1] for the details.\n",
    "\n",
    "This general scheme is handled by ControlledStatePreparationUsingRotations. This class also uses\n",
    "RotationTree to get the angles of rotation needed (which are converted to the value to be loaded\n",
    "to the ROM to achieve such a rotation). RotationTree is a tree data structure which holds the\n",
    "accumulated probability of each substring, i.e., the root holds the probability of measuring the\n",
    "first qubit at 0, the branch1 node the probability of measuring the second qubit at 0 if the first\n",
    "was measured at 1 and so on. The $2^i$ rotations needed to prepare the ith qubit are performed by\n",
    "ControlledQROMRotateQubit. This essentially is a rotation gate array, that is, given a list of\n",
    "angles it performs the kth rotation when the selection register is on state $|k\\rangle$. This\n",
    "rotation is done in the Z axis, but for encoding amplitude a rotation around Ry is needed, thus the\n",
    "need of a $R_x(\\pm \\pi/2)$ gate before and after encoding the amplitudes of each qubit.\n",
    "\n",
    "In order to perform the rotations as efficiently as possible, the angles are loaded into a register\n",
    "(rot\\_reg) which is added into a phase gradient. Then phase kickback causes an overall offset of\n",
    "$e^{i2\\pi x/2^b}$, where $x$ is the angle value loaded and $b$ the size of the rot\\_reg. Below is an\n",
    "example for rot\\_reg\\_size=2.\n",
    "\n",
    "First there is the rot\\_reg register with the value to be rotated (3 in this case) and the phase\n",
    "gradient\n",
    "\n",
    "$$\n",
    "|3\\rangle(e^{2\\pi i 0/4}|0\\rangle + e^{2\\pi i 1/4}|1\\rangle +\n",
    "          e^{2\\pi i 2/4}|2\\rangle + e^{2\\pi i 3/4}|3\\rangle).\n",
    "$$\n",
    "\n",
    "Then the rot\\_reg $|3\\rangle$ register is added to the phase gradient and store the result in the\n",
    "phase gradient register\n",
    "\n",
    "$$\n",
    "|3\\rangle(e^{2\\pi i 0/4}|3\\rangle + e^{2\\pi i 1/4}|0\\rangle +\n",
    "          e^{2\\pi i 2/4}|1\\rangle + e^{2\\pi i 3/4}|2\\rangle),\n",
    "$$\n",
    "\n",
    "but this is equivalent to the original state with a phase offset of $e^{2\\pi i 1/4}$.\n",
    "\n",
    "\n",
    "References:\n",
    "    [Trading T-gates for dirty qubits in state preparation and unitary synthesis]\n",
    "    (https://arxiv.org/abs/1812.00954).\n",
    "        Low, Kliuchnikov, Schaeffer. 2018."
   ]
  },
  {
   "cell_type": "code",
   "execution_count": null,
   "id": "b3d8cd55",
   "metadata": {
    "cq.autogen": "top_imports"
   },
   "outputs": [],
   "source": [
    "from qualtran import Bloq, CompositeBloq, BloqBuilder, Signature, Register\n",
    "from qualtran.drawing import show_bloq, show_call_graph, show_counts_sigma\n",
    "from typing import *\n",
    "import numpy as np\n",
    "import sympy\n",
    "import cirq"
   ]
  },
  {
   "cell_type": "markdown",
   "id": "ea9ae4d8",
   "metadata": {
    "cq.autogen": "ControlledStatePreparationUsingRotations.bloq_doc.md"
   },
   "source": [
    "## `ControlledStatePreparationUsingRotations`\n",
    "Controlled state preparation without entangled residual using Ry and Rz rotations from [1].\n",
    "\n",
    "Given a quantum state of which the list of coefficients $c_i$ is known\n",
    "$$\n",
    "    |\\psi \\rangle = \\sum_{i=0}^{N-1}c_{i}|i\\rangle\n",
    "$$\n",
    "this gate prepares $|\\psi\\rangle$ from $|0\\rangle$ conditioned by a control qubit\n",
    "$$\n",
    "    U((|0\\rangle + |1\\rangle)|0\\rangle) = |0\\rangle |0\\rangle + |1\\rangle |\\psi\\rangle.\n",
    "$$\n",
    "\n",
    "#### Parameters\n",
    " - `state_bitsizes`: number of qubits of the state.\n",
    " - `rot_reg_bitsizes`: size of the register that is used to store the rotation angles. Bigger values increase the accuracy of the results.\n",
    " - `state`: tuple of length 2^state_bitsizes that contains the complex coefficients of the state. \n",
    "\n",
    "#### References\n",
    "[Trading T-gates for dirty qubits in state preparation and unitary synthesis]\n",
    "(https://arxiv.org/abs/1812.00954).\n",
    "    Low, Kliuchnikov, Schaeffer. 2018.\n"
   ]
  },
  {
   "cell_type": "code",
   "execution_count": null,
   "id": "3ee5b831",
   "metadata": {
    "cq.autogen": "ControlledStatePreparationUsingRotations.bloq_doc.py"
   },
   "outputs": [],
   "source": [
    "from qualtran.bloqs.controlled_state_preparation import ControlledStatePreparationUsingRotations"
   ]
  },
  {
   "cell_type": "markdown",
   "id": "26638045",
   "metadata": {
    "cq.autogen": "ControlledStatePreparationUsingRotations.example_instances.md"
   },
   "source": [
    "### Example Instances"
   ]
  },
  {
   "cell_type": "code",
   "execution_count": null,
   "id": "01098907",
   "metadata": {
    "cq.autogen": "ControlledStatePreparationUsingRotations.controlled_state_prep"
   },
   "outputs": [],
   "source": [
    "state_coefs = (\n",
    "    (-0.42677669529663675 - 0.1767766952966366j),\n",
    "    (0.17677669529663664 - 0.4267766952966367j),\n",
    "    (0.17677669529663675 - 0.1767766952966368j),\n",
    "    (0.07322330470336305 - 0.07322330470336309j),\n",
    "    (0.4267766952966366 - 0.17677669529663692j),\n",
    "    (0.42677669529663664 + 0.17677669529663675j),\n",
    "    (0.0732233047033631 + 0.17677669529663678j),\n",
    "    (-0.07322330470336308 - 0.17677669529663678j),\n",
    ")\n",
    "controlled_state_prep = ControlledStatePreparationUsingRotations(\n",
    "    state_bitsizes=2, rot_reg_bitsizes=4, state=state_coefs\n",
    ")"
   ]
  },
  {
   "cell_type": "markdown",
   "id": "af1dbae0",
   "metadata": {
    "cq.autogen": "ControlledStatePreparationUsingRotations.graphical_signature.md"
   },
   "source": [
    "#### Graphical Signature"
   ]
  },
  {
   "cell_type": "code",
   "execution_count": null,
   "id": "5733a924",
   "metadata": {
    "cq.autogen": "ControlledStatePreparationUsingRotations.graphical_signature.py"
   },
   "outputs": [],
   "source": [
    "from qualtran.drawing import show_bloqs\n",
    "show_bloqs([controlled_state_prep],\n",
    "           ['`controlled_state_prep`'])"
   ]
  },
  {
   "cell_type": "markdown",
   "id": "017875f3",
   "metadata": {
    "cq.autogen": "ControlledStatePreparationUsingRotations.call_graph.md"
   },
   "source": [
    "### Call Graph"
   ]
  },
  {
   "cell_type": "code",
   "execution_count": null,
   "id": "29799ff1",
   "metadata": {
    "cq.autogen": "ControlledStatePreparationUsingRotations.call_graph.py"
   },
   "outputs": [],
   "source": [
    "controlled_state_prep_g, controlled_state_prep_sigma = controlled_state_prep.call_graph()\n",
    "show_call_graph(controlled_state_prep_g)\n",
    "show_counts_sigma(controlled_state_prep_sigma)"
   ]
  }
 ],
 "metadata": {
  "kernelspec": {
   "display_name": "Python 3",
   "language": "python",
   "name": "python3"
  },
  "language_info": {
   "name": "python"
  }
 },
 "nbformat": 4,
 "nbformat_minor": 5
}
