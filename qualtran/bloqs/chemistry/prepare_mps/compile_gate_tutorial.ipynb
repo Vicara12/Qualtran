{
 "cells": [
  {
   "cell_type": "code",
   "execution_count": null,
   "metadata": {},
   "outputs": [],
   "source": [
    "#  Copyright 2023 Google LLC\n",
    "#\n",
    "#  Licensed under the Apache License, Version 2.0 (the \"License\");\n",
    "#  you may not use this file except in compliance with the License.\n",
    "#  You may obtain a copy of the License at\n",
    "#\n",
    "#      https://www.apache.org/licenses/LICENSE-2.0\n",
    "#\n",
    "#  Unless required by applicable law or agreed to in writing, software\n",
    "#  distributed under the License is distributed on an \"AS IS\" BASIS,\n",
    "#  WITHOUT WARRANTIES OR CONDITIONS OF ANY KIND, either express or implied.\n",
    "#  See the License for the specific language governing permissions and\n",
    "#  limitations under the License."
   ]
  },
  {
   "cell_type": "markdown",
   "metadata": {},
   "source": [
    "# Gate compilation given its columns via Householder reflections"
   ]
  },
  {
   "cell_type": "code",
   "execution_count": null,
   "metadata": {},
   "outputs": [],
   "source": [
    "import random\n",
    "\n",
    "import scipy as scp\n",
    "import numpy as np\n",
    "\n",
    "from qualtran import BloqBuilder\n",
    "from qualtran.bloqs.basic_gates import PlusState\n",
    "from qualtran.drawing import show_bloq\n",
    "from qualtran.bloqs.rotations.phase_gradient import PhaseGradientState\n",
    "from qualtran.bloqs.state_preparation.state_preparation_via_rotation import StatePreparationViaRotations\n",
    "from qualtran.bloqs.chemistry.prepare_mps.compile_gate import CompileGateFromColumnsNoPG, CompileGateFromColumns"
   ]
  },
  {
   "cell_type": "markdown",
   "metadata": {},
   "source": [
    "This bloq compiles a quantum gate $U$ given a list of its columns, which might be incomplete. It uses Householder reflections on states prepared with `StatePreparationViaRotations`.\n",
    "\n",
    "Refer to https://arxiv.org/abs/1306.3200 for the method used."
   ]
  },
  {
   "cell_type": "markdown",
   "metadata": {},
   "source": [
    "## Example of use\n",
    "\n",
    "Assume one wants to compile a `gate_bitsize` qubit gate $U$ using a rotation precision given by `phase_bitsize`."
   ]
  },
  {
   "cell_type": "code",
   "execution_count": null,
   "metadata": {},
   "outputs": [],
   "source": [
    "def getRandomUnitary (gate_bitsize):\n",
    "  U = scp.stats.unitary_group.rvs(2**gate_bitsize)\n",
    "  return U\n",
    "\n",
    "seed = 42\n",
    "random.seed(seed)\n",
    "np.random.seed(seed)\n",
    "\n",
    "gate_bitsize = 2\n",
    "phase_bitsize = 3\n",
    "U = getRandomUnitary(gate_bitsize)"
   ]
  },
  {
   "cell_type": "markdown",
   "metadata": {},
   "source": [
    "## Building the Bloq\n",
    "\n",
    "The parameters the bloq receives are:\n",
    "\n",
    "  - `phase_bitsize`: number of qubits used to store the rotation angle. This determines the\n",
    "    accuracy of the results, but increases computational resources.\n",
    "  - `gate_cols`: tuple that contains the columns of the gate. In each position this tuple has to\n",
    "    contain the index of the column and the data that it stores, i.e.: ((0, (1j,0)), (1, (0,1))).\n",
    "  - `uncompute`: defaults to `False`. Wether the compiled gate is $U$ or $U^\\dagger$. If true, the\n",
    "    data in `gate_cols` determines the rows of the matrix, and the vectors will be transposed. That\n",
    "    is, if one wants to implement $U^\\dagger$ the `gate_cols` provided must be the same as in the\n",
    "    case of $U$. This can also be used if one wants to specify the rows of $U$ instead of the\n",
    "    columns. In this case take the conjugate of the coefficients.\n",
    "\n",
    "The data in the array `U` declared previously must be adapted to the correct format. Below is an\n",
    "example of use together with its bloq decomposition."
   ]
  },
  {
   "cell_type": "code",
   "execution_count": null,
   "metadata": {},
   "outputs": [],
   "source": [
    "# remember to take the transpose of the gate, as the vectors specify the columns of the matrix\n",
    "gate_cols = tuple([(i, tuple(c)) for i,c in enumerate(U.T)])\n",
    "gate_compiler = CompileGateFromColumns(phase_bitsize=phase_bitsize, gate_cols=gate_cols)\n",
    "\n",
    "show_bloq(gate_compiler)\n",
    "show_bloq(gate_compiler.decompose_bloq())"
   ]
  },
  {
   "cell_type": "markdown",
   "metadata": {},
   "source": [
    "For each column it is possible to see the reflection, composed of a prepare bloq, a reflection and\n",
    "another prepare bloq, which is transposed."
   ]
  },
  {
   "cell_type": "markdown",
   "metadata": {},
   "source": [
    "## Using the bloq in a circuit\n",
    "\n",
    "The gate compilation module offers two classes. The main one, which was used before, is\n",
    "`CompileGateFromColumns`. This bloq receives the gate input and a phase gradient, which is used to\n",
    "perform the rotations and left unchanged, so it can be reused if multiple gates are compiled in\n",
    "order to get the best T-gate count. However, if a single gate is compiled there is the alternative\n",
    "`CompileGateFromColumnsNoPG`. This gate still uses a phase gradient state but it is obtained\n",
    "internally, so it does not need to be provided.\n",
    "\n",
    "In the following sections the latter variant is used, but it is analogous to the former.\n",
    "\n",
    "Now let us show an example of how to use this bloq in a circuit, together with the tensor\n",
    "contraction of it to show that it correctly implements the desired gate."
   ]
  },
  {
   "cell_type": "code",
   "execution_count": null,
   "metadata": {},
   "outputs": [],
   "source": [
    "gate_compiler = CompileGateFromColumnsNoPG(phase_bitsize, gate_cols)\n",
    "\n",
    "bb = BloqBuilder()\n",
    "state = bb.join(np.array([bb.add(PlusState()), bb.add(PlusState())]))\n",
    "state = bb.add(gate_compiler, gate_input = state)\n",
    "circuit = bb.finalize(state=state)\n",
    "\n",
    "show_bloq(circuit)\n",
    "result = circuit.tensor_contract()\n",
    "compiled_gate = gate_compiler.tensor_contract()"
   ]
  },
  {
   "cell_type": "markdown",
   "metadata": {},
   "source": [
    "And finally a comparison with the correct results."
   ]
  },
  {
   "cell_type": "code",
   "execution_count": null,
   "metadata": {},
   "outputs": [],
   "source": [
    "def c2pol (c):\n",
    "    # round 0 to eliminate phase\n",
    "    if abs(c) < 1e-14:\n",
    "        c = 0\n",
    "    return f\"{abs(c):.3f} ∠ {np.angle(c, deg=True):04.2f}º\"\n",
    "\n",
    "def compare_gate_results (comp, original):\n",
    "    print(\"* compiled gate  ||  original gate U (coefficients in polar form):\\n\")\n",
    "    for compiled, correct in zip(comp, original):\n",
    "        print(\"  \".join([c2pol(c) for c in compiled]) + \"    ||    \"\\\n",
    "            + \"  \".join([c2pol(c) for c in correct]))\n",
    "\n",
    "correct_result = 0.5*U@np.ones((4,1))\n",
    "correct_result = correct_result.reshape((-1))\n",
    "\n",
    "accuracy = abs(np.dot(correct_result.conj(), result))\n",
    "print(f\"* Accuracy of <++|U U_compiled|++>: {accuracy}\\n\")\n",
    "\n",
    "print(\"* Comparison of U|++> (coefficients in polar form):\\n\")\n",
    "for i, (compiled, correct) in enumerate(zip(result, correct_result)):\n",
    "    print(f\"  |{i:0{gate_bitsize}b}> result: {c2pol(compiled)}     correct: {c2pol(correct)}\")\n",
    "\n",
    "print(\"\\n\")\n",
    "compare_gate_results(compiled_gate, U)"
   ]
  },
  {
   "cell_type": "markdown",
   "metadata": {},
   "source": [
    "## Partial specification of the gate\n",
    "\n",
    "As mentioned before, it is possible to specify only some columns of the matrix. Notice below that\n",
    "only the first and last columns are close to the original operator."
   ]
  },
  {
   "cell_type": "code",
   "execution_count": null,
   "metadata": {},
   "outputs": [],
   "source": [
    "partial_gate_cols = (gate_cols[0], gate_cols[-1])\n",
    "gate_compiler = CompileGateFromColumnsNoPG(phase_bitsize, partial_gate_cols)\n",
    "compiled = gate_compiler.tensor_contract()\n",
    "compare_gate_results(compiled, U)"
   ]
  },
  {
   "cell_type": "markdown",
   "metadata": {},
   "source": [
    "## Using the adjoint\n",
    "\n",
    "This bloq also implements the adjoint of the compiled gate though the attribute `uncompute`, which\n",
    "is set to `False` as a default. Note that in this example the class that requires a phase gradient\n",
    "to be provided,`CompileGateFromColumns` ,is used for no particular reason.\n",
    "\n",
    "The circuit below uses both the compilation of $U$ and $U^\\dagger$, and also a state preparation\n",
    "gate that acts as $|\\psi\\rangle = R_{|\\psi\\rangle}|0\\rangle$ and its adjoint. It starts at\n",
    "$|0\\rangle$, prepares a random state $|\\psi\\rangle$, applies $U$, then $U^\\dagger$ and finally\n",
    "unprepares the same state to leave the register at $|0\\rangle$.\n",
    "\n",
    "$$\n",
    "    |0\\rangle = R_{|\\psi\\rangle}^\\dagger U^\\dagger U  R_{|\\psi\\rangle}|0\\rangle\n",
    "$$"
   ]
  },
  {
   "cell_type": "code",
   "execution_count": null,
   "metadata": {},
   "outputs": [],
   "source": [
    "def gen_random_state (state_bitsizes: int):\n",
    "    state = np.array([random.uniform(-1,1) + random.uniform(-1,1)*1j for _ in range(2**state_bitsizes)])\n",
    "    return state/np.linalg.norm(state)\n",
    "\n",
    "random_state = tuple(gen_random_state(gate_bitsize))\n",
    "gate_comp     = CompileGateFromColumns(phase_bitsize, gate_cols, uncompute=False)\n",
    "gate_comp_adj = CompileGateFromColumns(phase_bitsize, gate_cols, uncompute=True)\n",
    "state_prep     = StatePreparationViaRotations(phase_bitsize, random_state, uncompute=False)\n",
    "state_prep_adj = StatePreparationViaRotations(phase_bitsize, random_state, uncompute=True)\n",
    "\n",
    "bb = BloqBuilder()\n",
    "state = bb.allocate(gate_bitsize)\n",
    "ra = bb.allocate(1)\n",
    "pg = bb.add(PhaseGradientState(phase_bitsize))\n",
    "state, pg = bb.add(state_prep, target_state=state, phase_gradient=pg)\n",
    "state, pg, ra = bb.add(gate_comp, gate_input=state, phase_grad=pg, reflection_ancilla=ra)\n",
    "state, pg, ra = bb.add(gate_comp_adj, gate_input=state, phase_grad=pg, reflection_ancilla=ra)\n",
    "state, pg = bb.add(state_prep_adj, target_state=state, phase_gradient=pg)\n",
    "bb.add(PhaseGradientState(phase_bitsize).adjoint(), phase_grad=pg)\n",
    "bb.free(ra)\n",
    "circuit = bb.finalize(state=state)\n",
    "result = circuit.tensor_contract()\n",
    "\n",
    "print(f\" * Resulting state (coefficients in polar form):\")\n",
    "print(\"\\n\".join([f\"  |{i:0{gate_bitsize}b}>  {c2pol(c)}\" for i, c in enumerate(result)]))\n",
    "show_bloq(circuit)"
   ]
  },
  {
   "cell_type": "markdown",
   "metadata": {},
   "source": [
    "## Controlled version\n",
    "\n",
    "# TODO"
   ]
  }
 ],
 "metadata": {
  "kernelspec": {
   "display_name": "venv",
   "language": "python",
   "name": "python3"
  },
  "language_info": {
   "codemirror_mode": {
    "name": "ipython",
    "version": 3
   },
   "file_extension": ".py",
   "mimetype": "text/x-python",
   "name": "python",
   "nbconvert_exporter": "python",
   "pygments_lexer": "ipython3",
   "version": "3.10.0"
  }
 },
 "nbformat": 4,
 "nbformat_minor": 2
}
