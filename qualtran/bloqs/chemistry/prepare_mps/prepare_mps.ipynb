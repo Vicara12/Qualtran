{
 "cells": [
  {
   "cell_type": "markdown",
   "id": "b9b9c9a6",
   "metadata": {
    "cq.autogen": "title_cell"
   },
   "source": [
    "# MPS Preparation"
   ]
  },
  {
   "cell_type": "code",
   "execution_count": null,
   "id": "58385ee7",
   "metadata": {
    "cq.autogen": "top_imports"
   },
   "outputs": [],
   "source": [
    "from qualtran import Bloq, CompositeBloq, BloqBuilder, Signature, Register\n",
    "from qualtran.drawing import show_bloq, show_call_graph, show_counts_sigma\n",
    "from typing import *\n",
    "import numpy as np\n",
    "import sympy\n",
    "import cirq"
   ]
  },
  {
   "cell_type": "markdown",
   "id": "1fa908a4",
   "metadata": {
    "cq.autogen": "PrepareMPS.bloq_doc.md"
   },
   "source": [
    "## `PrepareMPS`\n",
    "Prepares a quantum state encoded in an MPS.\n",
    "\n",
    "Given the tensors that encode a MPS or a Quimb MatrixProductState object, this bloq prepares\n",
    "the equivalent quantum state using the method from [1].\n",
    "\n",
    "A phase gradient state is needed for this process. It can be provided externally to improve the\n",
    "T-cost of the algorithm (specially if the process is repeated multiple times), otherwise it is\n",
    "generated and deallocated internally.\n",
    "\n",
    "This Bloq can be built directly with the constructor, in which case the tensors that form the\n",
    "MPS must be provided, or from a Quimb MatrixProductState, in which case it is necessary to use\n",
    "the from_quimb_mps method.\n",
    "\n",
    "#### Parameters\n",
    " - `tensors`: tuple of tensors (in tuple format) that encode the MPS in left canonical form. The format in the case of a single site MPS is `(((coef_0, coef_1),),)`. For a two site mps the tensor disposition is `([bond_dim_0, physical_ind_0], [bond_dim_0, physical_ind_1])` for the first and second sites. In a n-site MPS the disposition is `([bond_dim_0, physical_ind_0], ..., [bond_dim_{i-1}, bond_dim_i, physical_ind_i], ..., [bond_dim_{n-2}, physical_ind_{n-1}])`. For an example of this encoding refer to the tutorial.\n",
    " - `phase_bitsize`: size of the register that is used to store the rotation angles when loading the tensor values. Bigger values increase the accuracy of the results but require approximately 2 extra ancilla per qubit of phase_bitsize.\n",
    " - `uncompute`: wether to implement the MPS preparation circuit or its adjoint.\n",
    " - `internal_phase_gradient`: a phase gradient state is needed for the decomposition. It can be either be provided externally if this attribute is set to False or internally otherwise. \n",
    "\n",
    "#### References\n",
    "[Sequential Generation of Entangled Multiqubit States]\n",
    "(https://journals.aps.org/prl/abstract/10.1103/PhysRevLett.95.110503).\n",
    "    C. Schön, E. Solano, F. Verstraete, J. I. Cirac, and M. M. Wolf. 2005.\n"
   ]
  },
  {
   "cell_type": "code",
   "execution_count": null,
   "id": "d33e4ad7",
   "metadata": {
    "cq.autogen": "PrepareMPS.bloq_doc.py"
   },
   "outputs": [],
   "source": [
    "from qualtran.bloqs.chemistry.prepare_mps.prepare_mps import PrepareMPS"
   ]
  },
  {
   "cell_type": "markdown",
   "id": "1e6dbb57",
   "metadata": {
    "cq.autogen": "PrepareMPS.example_instances.md"
   },
   "source": [
    "### Example Instances"
   ]
  },
  {
   "cell_type": "code",
   "execution_count": null,
   "id": "791e0f06",
   "metadata": {
    "cq.autogen": "PrepareMPS.prepare_mps"
   },
   "outputs": [],
   "source": [
    "tensors = (\n",
    "    (((-0.6221018876629202+0.6420514495011711j), (0.132495199023149+0.3193914665424655j)),\n",
    "     ((0.10238069190497784-0.009166000913358544j), (-0.0832597254195061+0.2523792530512902j))),\n",
    "\n",
    "    (((-0.11429513645729317+0j), (-0.8147485065475832+0.5684377651605244j)),\n",
    "     ((-0.9934468389311071+0j), (0.09373605922831829-0.06539823711795652j)))\n",
    "     )\n",
    "prepare_mps = PrepareMPS(tensors=tensors, phase_bitsize=3)"
   ]
  },
  {
   "cell_type": "markdown",
   "id": "021594bb",
   "metadata": {
    "cq.autogen": "PrepareMPS.graphical_signature.md"
   },
   "source": [
    "#### Graphical Signature"
   ]
  },
  {
   "cell_type": "code",
   "execution_count": null,
   "id": "1178faa9",
   "metadata": {
    "cq.autogen": "PrepareMPS.graphical_signature.py"
   },
   "outputs": [],
   "source": [
    "from qualtran.drawing import show_bloqs\n",
    "show_bloqs([prepare_mps],\n",
    "           ['`prepare_mps`'])"
   ]
  },
  {
   "cell_type": "markdown",
   "id": "70f2f884",
   "metadata": {
    "cq.autogen": "PrepareMPS.call_graph.md"
   },
   "source": [
    "### Call Graph"
   ]
  },
  {
   "cell_type": "code",
   "execution_count": null,
   "id": "61342c2a",
   "metadata": {
    "cq.autogen": "PrepareMPS.call_graph.py"
   },
   "outputs": [],
   "source": [
    "prepare_mps_g, prepare_mps_sigma = prepare_mps.call_graph()\n",
    "show_call_graph(prepare_mps_g)\n",
    "show_counts_sigma(prepare_mps_sigma)"
   ]
  }
 ],
 "metadata": {
  "kernelspec": {
   "display_name": "Python 3",
   "language": "python",
   "name": "python3"
  },
  "language_info": {
   "name": "python"
  }
 },
 "nbformat": 4,
 "nbformat_minor": 5
}
