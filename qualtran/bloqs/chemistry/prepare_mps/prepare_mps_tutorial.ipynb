{
 "cells": [
  {
   "cell_type": "code",
   "execution_count": null,
   "metadata": {},
   "outputs": [],
   "source": [
    "#  Copyright 2023 Google LLC\n",
    "#\n",
    "#  Licensed under the Apache License, Version 2.0 (the \"License\");\n",
    "#  you may not use this file except in compliance with the License.\n",
    "#  You may obtain a copy of the License at\n",
    "#\n",
    "#      https://www.apache.org/licenses/LICENSE-2.0\n",
    "#\n",
    "#  Unless required by applicable law or agreed to in writing, software\n",
    "#  distributed under the License is distributed on an \"AS IS\" BASIS,\n",
    "#  WITHOUT WARRANTIES OR CONDITIONS OF ANY KIND, either express or implied.\n",
    "#  See the License for the specific language governing permissions and\n",
    "#  limitations under the License."
   ]
  },
  {
   "cell_type": "markdown",
   "metadata": {},
   "source": [
    "# MPS state preparation\n",
    "\n",
    "This bloq prepares a quantum state given its representation as a Matrix Product State (MPS).\n",
    "\n",
    "Refer to https://journals.aps.org/prl/abstract/10.1103/PhysRevLett.95.110503 for the algorithm used."
   ]
  },
  {
   "cell_type": "code",
   "execution_count": null,
   "metadata": {},
   "outputs": [],
   "source": [
    "from qualtran.bloqs.chemistry.prepare_mps.prepare_mps import PrepareMPS\n",
    "from qualtran.bloqs.rotations.phase_gradient import PhaseGradientState\n",
    "from qualtran.bloqs.state_preparation.state_preparation_via_rotation import StatePreparationViaRotations\n",
    "import quimb\n",
    "from qualtran import BloqBuilder\n",
    "from qualtran.drawing import show_bloq\n",
    "import numpy as np"
   ]
  },
  {
   "cell_type": "markdown",
   "metadata": {},
   "source": [
    "## Example of use\n",
    "\n",
    "The first step is to generate the MPS to be implemented. For convenience Quimb is used, but any\n",
    "other format is also fine as long as it is possible to extract the tensors from the MPS object.\n",
    "A very important thing to take into account is that the MPS must be in left orthogonal form and the\n",
    "bond dimensions must be powers of two."
   ]
  },
  {
   "cell_type": "code",
   "execution_count": null,
   "metadata": {},
   "outputs": [],
   "source": [
    "def c2pol (c):\n",
    "    # round 0 to eliminate phase\n",
    "    if abs(c) < 1e-14:\n",
    "        c = 0\n",
    "    return f\"{abs(c):.3f} ∠ {np.angle(c, deg=True):04.2f}º\"\n",
    "\n",
    "\n",
    "def get_mps (bitlen):\n",
    "    mps = quimb.tensor.MPS_rand_state(L=bitlen, bond_dim=2**bitlen, dtype=complex)\n",
    "    mps.compress()\n",
    "    return mps\n",
    "\n",
    "\n",
    "quimb.gen.rand.seed_rand(42)\n",
    "sites = 3\n",
    "mps = get_mps(sites)\n",
    "mps.show()\n",
    "\n",
    "print(\"\\nCoefficients from Quimb object (polar form):\")\n",
    "for i, c in enumerate(mps.to_dense().reshape((-1))):\n",
    "    print(f\"|{i:0{sites}b}>  {c2pol(c)}\")"
   ]
  },
  {
   "cell_type": "markdown",
   "metadata": {},
   "source": [
    "The parameters that the bloq constructor receives are:\n",
    "\n",
    "* `tensors`: tuple of tensors (in tuple format) that encode the MPS in left canonical form.\n",
    "        The format in the case of a single site MPS is `(((coef_0, coef_1),),)`. For a two site\n",
    "        mps the tensor disposition is\n",
    "        `([bond_dim_0, physical_ind_0], [bond_dim_0, physical_ind_1])` for the first and second\n",
    "        sites. In a n-site MPS the disposition is `([bond_dim_0, physical_ind_0], ...,\n",
    "        [bond_dim_{i-1}, bond_dim_i, physical_ind_i], ...,\n",
    "        [bond_dim_{n-2}, physical_ind_{n-1}])`. For an example of this encoding refer to the\n",
    "        tutorial.\n",
    "* `phase_bitsize`: size of the register that is used to store the rotation angles when loading\n",
    "    the tensor values. Bigger values increase the accuracy of the results but require\n",
    "    approximately 2 extra ancilla per qubit of phase_bitsize.\n",
    "* `uncompute`: wether to implement the MPS preparation circuit or its adjoint.\n",
    "* `internal_phase_gradient`: a phase gradient state is needed for the decomposition. It can be\n",
    "    either be provided externally if this attribute is set to `False` or internally otherwise.\n",
    "\n",
    "These arguments must be provided when building the Bloq directly from the raw tensors that form\n",
    "the MPS, but it is also possible to generate it from a Quimb MatrixProductState object, in which\n",
    "case the function `from_quimb_mps` is to be used and the MPS object replaces the `tensors` parameter\n",
    "(all other parameters remain the same)."
   ]
  },
  {
   "cell_type": "markdown",
   "metadata": {},
   "source": [
    "## Building the Bloq from a Quimb MPS\n",
    "\n",
    "From te MPS obtained above it is possible to generate a `PrepareMPS` bloq as follows."
   ]
  },
  {
   "cell_type": "code",
   "execution_count": null,
   "metadata": {},
   "outputs": [],
   "source": [
    "phase_bitsize = 4\n",
    "mps_prep = PrepareMPS.from_quimb_mps(mps, phase_bitsize)\n",
    "show_bloq(mps_prep)\n",
    "show_bloq(mps_prep.decompose_bloq())"
   ]
  },
  {
   "cell_type": "markdown",
   "metadata": {},
   "source": [
    "From the bloq decomposition above it is possible to see the three gates that correspond to each one\n",
    "of the tensors in the MPS. Then, using this bloq in a circuit is very simple."
   ]
  },
  {
   "cell_type": "code",
   "execution_count": null,
   "metadata": {},
   "outputs": [],
   "source": [
    "bb = BloqBuilder()\n",
    "state = bb.allocate(sites)\n",
    "state = bb.add(mps_prep, input_state=state)\n",
    "coefs = bb.finalize(state=state).tensor_contract()\n",
    "\n",
    "print(f\"accuracy: {abs(np.dot(coefs.conj(), coefs))}\")\n",
    "\n",
    "print(\"\\n* Comparison of the original MPS coefficients and circuit result (coefs in polar form):\\n\")\n",
    "for i, (compiled, correct) in enumerate(zip(coefs, mps.to_dense().reshape((-1)))):\n",
    "    print(f\"  |{i:0{sites}b}> result: {c2pol(compiled)}     correct: {c2pol(correct)}\")"
   ]
  },
  {
   "cell_type": "markdown",
   "metadata": {},
   "source": [
    "In the case of using an external phase gradient state the circuit looks as follows."
   ]
  },
  {
   "cell_type": "code",
   "execution_count": null,
   "metadata": {},
   "outputs": [],
   "source": [
    "mps_prep = PrepareMPS.from_quimb_mps(mps, phase_bitsize, internal_phase_gradient=False)\n",
    "bb = BloqBuilder()\n",
    "state = bb.allocate(sites)\n",
    "pg = bb.add(PhaseGradientState(phase_bitsize))\n",
    "state, pg = bb.add(mps_prep, input_state=state, phase_grad=pg)\n",
    "bb.add(PhaseGradientState(phase_bitsize).adjoint(), phase_grad=pg)\n",
    "coefs = bb.finalize(state=state)"
   ]
  },
  {
   "cell_type": "markdown",
   "metadata": {},
   "source": [
    "## Building the Bloq directly from the tensors\n",
    "\n",
    "As mentioned in previous sections, it is also possible to build the bloq directly from the tensors\n",
    "that form the MPS. Just make sure that the dimensions are in the correct order.\n",
    "\n",
    "In the example below first the tensors are extracted from the MPS object. Then the coefficients are\n",
    "computed back from the tensors to better illustrate the dimension outlay. The indices `i` and `j`\n",
    "correspond to virtual or bond dimensions, whereas the `a`, `b` and `c` correspond to physical\n",
    "indices."
   ]
  },
  {
   "cell_type": "code",
   "execution_count": null,
   "metadata": {},
   "outputs": [],
   "source": [
    "tensors = [tensor.data for tensor in mps]\n",
    "contraction_coefs = np.einsum(\"ia, ijb, jc -> abc\", *tensors).reshape((-1))"
   ]
  },
  {
   "cell_type": "markdown",
   "metadata": {},
   "source": [
    "When building the bloq from tensors, these need to be as type tuple. PrepareMPS provides a method to\n",
    "cast multidimensional arrays to tuple: `tensor_to_tuple`."
   ]
  },
  {
   "cell_type": "code",
   "execution_count": null,
   "metadata": {},
   "outputs": [],
   "source": [
    "tuple_tensors = tuple([PrepareMPS.tensor_to_tuple(t) for t in tensors])\n",
    "mps_prep = PrepareMPS(tuple_tensors, phase_bitsize)\n",
    "\n",
    "bb = BloqBuilder()\n",
    "state = bb.allocate(sites)\n",
    "state = bb.add(mps_prep, input_state=state)\n",
    "coefs = bb.finalize(state=state).tensor_contract()\n",
    "\n",
    "print(f\"accuracy: {abs(np.dot(coefs.conj(), coefs))}\")\n",
    "\n",
    "print(\"\\n* Comparison of the original MPS coefficients and circuit result (coefs in polar form):\\n\")\n",
    "for i, (compiled, correct) in enumerate(zip(coefs, contraction_coefs)):\n",
    "    print(f\"  |{i:0{sites}b}> result: {c2pol(compiled)}     correct: {c2pol(correct)}\")"
   ]
  },
  {
   "cell_type": "markdown",
   "metadata": {},
   "source": [
    "## Using the adjoint\n",
    "\n",
    "To conclude this tutorial, it is worth noting that PrepareMPS also implements the adjoint. This\n",
    "is equivalent to un-preparing a state given by an mps. Below its an illustration of this idea,\n",
    "first the state is prepared directly from the coefficient list by using `StatePreparationViaRotations`,\n",
    "then it is brought back to the $|0\\rangle$ state by applying the adjoint of the MPS preparation bloq."
   ]
  },
  {
   "cell_type": "code",
   "execution_count": null,
   "metadata": {},
   "outputs": [],
   "source": [
    "coefs = tuple(mps.to_dense().reshape((-1)))\n",
    "mps_prep_adjoint = PrepareMPS.from_quimb_mps(mps, phase_bitsize, uncompute=True, internal_phase_gradient=False)\n",
    "state_prep = StatePreparationViaRotations(phase_bitsize, coefs)\n",
    "\n",
    "bb = BloqBuilder()\n",
    "state = bb.allocate(sites)\n",
    "pg = bb.add(PhaseGradientState(phase_bitsize))\n",
    "state, pg = bb.add(state_prep, target_state=state, phase_gradient=pg)\n",
    "state, pg = bb.add(mps_prep_adjoint, input_state=state, phase_grad=pg)\n",
    "bb.add(PhaseGradientState(phase_bitsize).adjoint(), phase_grad=pg)\n",
    "circuit = bb.finalize(state=state)\n",
    "coefs = circuit.tensor_contract()\n",
    "\n",
    "show_bloq(circuit)\n",
    "\n",
    "print(\"\\nCoefficients from Quimb object (polar form):\")\n",
    "for i, c in enumerate(coefs):\n",
    "    print(f\"|{i:0{sites}b}>  {c2pol(c)}\")"
   ]
  },
  {
   "cell_type": "markdown",
   "metadata": {},
   "source": [
    "Note that the end result does not have to be a unit vector because of the approximation error in\n",
    "`DecomposeGateViaHR`."
   ]
  }
 ],
 "metadata": {
  "kernelspec": {
   "display_name": "venv",
   "language": "python",
   "name": "python3"
  },
  "language_info": {
   "codemirror_mode": {
    "name": "ipython",
    "version": 3
   },
   "file_extension": ".py",
   "mimetype": "text/x-python",
   "name": "python",
   "nbconvert_exporter": "python",
   "pygments_lexer": "ipython3",
   "version": "3.10.0"
  }
 },
 "nbformat": 4,
 "nbformat_minor": 2
}
